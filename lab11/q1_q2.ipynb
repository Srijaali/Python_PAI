{
  "nbformat": 4,
  "nbformat_minor": 0,
  "metadata": {
    "colab": {
      "provenance": []
    },
    "kernelspec": {
      "name": "python3",
      "display_name": "Python 3"
    },
    "language_info": {
      "name": "python"
    }
  },
  "cells": [
    {
      "cell_type": "code",
      "execution_count": 8,
      "metadata": {
        "colab": {
          "base_uri": "https://localhost:8080/"
        },
        "id": "1YmXxB31yPBB",
        "outputId": "e677e534-869a-453e-e451-b60d572d03ac"
      },
      "outputs": [
        {
          "output_type": "stream",
          "name": "stdout",
          "text": [
            "   age  sex  cp  trestbps  chol  fbs  restecg  thalach  exang  oldpeak  slope  \\\n",
            "0   52    1   0       125   212    0        1      168      0      1.0      2   \n",
            "1   53    1   0       140   203    1        0      155      1      3.1      0   \n",
            "2   70    1   0       145   174    0        1      125      1      2.6      0   \n",
            "3   61    1   0       148   203    0        1      161      0      0.0      2   \n",
            "4   62    0   0       138   294    1        1      106      0      1.9      1   \n",
            "\n",
            "   ca  thal  target  \n",
            "0   2     3       0  \n",
            "1   0     3       0  \n",
            "2   0     3       0  \n",
            "3   1     3       0  \n",
            "4   3     2       0  \n",
            "Random Seed 1: Highest Accuracy: (1, 1.0), Lowest Accuracy: (216, 0.6146341463414634)\n",
            "Random Seed 2: Highest Accuracy: (1, 0.9804878048780488), Lowest Accuracy: (246, 0.6390243902439025)\n",
            "Random Seed 3: Highest Accuracy: (1, 1.0), Lowest Accuracy: (206, 0.5853658536585366)\n",
            "Random Seed 4: Highest Accuracy: (1, 1.0), Lowest Accuracy: (231, 0.5756097560975609)\n",
            "Random Seed 5: Highest Accuracy: (1, 0.9853658536585366), Lowest Accuracy: (34, 0.6780487804878049)\n",
            "Random Seed 6: Highest Accuracy: (1, 0.9853658536585366), Lowest Accuracy: (241, 0.624390243902439)\n",
            "Random Seed 7: Highest Accuracy: (1, 0.9804878048780488), Lowest Accuracy: (239, 0.6439024390243903)\n",
            "Random Seed 8: Highest Accuracy: (1, 1.0), Lowest Accuracy: (120, 0.5853658536585366)\n",
            "Random Seed 9: Highest Accuracy: (1, 0.9707317073170731), Lowest Accuracy: (88, 0.6487804878048781)\n",
            "Random Seed 10: Highest Accuracy: (1, 1.0), Lowest Accuracy: (34, 0.6536585365853659)\n",
            "Highest: (1, 1.0)\n",
            "Lowest: (34, 0.6536585365853659)\n"
          ]
        }
      ],
      "source": [
        "# Implement K-Nearest Neighbor classifier on the heart disease dataset and analyze the\n",
        "# performance using accuracy, while varying the number of neighbors (e.g. 1 – 250). Also\n",
        "# print the neighbor(s) having the highest accuracy and those with the lowest accuracy.\n",
        "# 2. Run the above provided KNN Algorithm for different random seed values from 1 to 10.\n",
        "# Print all accuracies and then print the highest and the lowest.\n",
        "\n",
        "import pandas as pd\n",
        "import numpy as np\n",
        "from sklearn.model_selection import train_test_split\n",
        "from sklearn.metrics import accuracy_score\n",
        "from sklearn.neighbors import KNeighborsClassifier\n",
        "\n",
        "# Load dataset\n",
        "heart = pd.read_csv('heart.csv')\n",
        "print(heart.head(5))\n",
        "\n",
        "\n",
        "x = heart.drop(columns=['target'])  # Drop the target column for features\n",
        "y = heart['target']                 # Select the target column\n",
        "\n",
        "# can also do:\n",
        "# Assuming the last column is the target, and others are features\n",
        "# x = heart.iloc[:, :-1] # : means select all rows AND :-1 means select all columns except the last one.\n",
        "# y = heart.iloc[:, -1] # : means select all rows AND -1 means select only the last column which features target\n",
        "\n",
        "# Loop for random seeds\n",
        "for seed in range(1, 11):\n",
        "    # Splitting the dataset\n",
        "    x_train, x_test, y_train, y_test = train_test_split(x, y, test_size=0.2, random_state=seed)\n",
        "\n",
        "    output = []\n",
        "    # Loop for k values\n",
        "    for k in range(1, 251):\n",
        "        knn = KNeighborsClassifier(n_neighbors=k)\n",
        "        knn.fit(x_train, y_train)\n",
        "        y_prediction = knn.predict(x_test)\n",
        "        acc = accuracy_score(y_test, y_prediction)\n",
        "        output.append((k, acc))\n",
        "\n",
        "    # Sort accuracies for the current seed\n",
        "    output.sort(key=lambda x: x[1], reverse=True)\n",
        "    highest_acc = output[0]\n",
        "    lowest_acc = output[-1]\n",
        "\n",
        "    print(f\"Random Seed {seed}: Highest Accuracy: {highest_acc}, Lowest Accuracy: {lowest_acc}\")\n",
        "\n",
        "print(f\"Highest: {highest_acc}\")\n",
        "print(f\"Lowest: {lowest_acc}\")\n",
        "\n",
        "\n"
      ]
    }
  ]
}